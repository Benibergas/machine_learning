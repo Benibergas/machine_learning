{
 "cells": [
  {
   "cell_type": "markdown",
   "metadata": {},
   "source": [
    "# Experiment: Which drugs are \"similar\", from prescription data?"
   ]
  },
  {
   "cell_type": "markdown",
   "metadata": {},
   "source": [
    "In the USA the social program for prescription drugs is the \"Medicare Part D Prescription Drug\" program. Data regarding the prescribed drugs per provider and drug are available at https://data.cms.gov/provider-summary-by-type-of-service/medicare-part-d-prescribers/medicare-part-d-prescribers-by-provider-and-drug/\n",
    "\n",
    "On this website you can select the columns you want. I downloaded only the code for the drug provider (`Prscrbr_NPI`), the type of provider (`Prscrbr_Type`), the generic name for the drug (`Gnrc_Name`) and the total number of claims made by this provider (`Tot_Clms`):\n",
    "\n",
    "<center><img src='./image.png' width=50%></img></center>\n",
    "\n",
    "As a result, I got a 197MB zip file. I made a folder named `data` and placed the file there. I also wrote a utility function to load this data and placed this code in a separate `.py` file (just so I don't pollute this notebook too much!). Let's load the data:"
   ]
  },
  {
   "cell_type": "code",
   "execution_count": 1,
   "metadata": {},
   "outputs": [],
   "source": [
    "from pathlib import Path\n",
    "\n",
    "import pandas as pd\n",
    "\n",
    "from utils import DATA_DIR, load_data"
   ]
  },
  {
   "cell_type": "code",
   "execution_count": null,
   "metadata": {},
   "outputs": [],
   "source": [
    "df = load_data()"
   ]
  },
  {
   "cell_type": "markdown",
   "metadata": {},
   "source": [
    "## Exploratory analysis"
   ]
  },
  {
   "cell_type": "markdown",
   "metadata": {},
   "source": [
    "What does the data look like?"
   ]
  },
  {
   "cell_type": "code",
   "execution_count": null,
   "metadata": {},
   "outputs": [],
   "source": [
    "df.shape"
   ]
  },
  {
   "cell_type": "markdown",
   "metadata": {},
   "source": [
    "- About 25 million rows, 4 columns"
   ]
  },
  {
   "cell_type": "code",
   "execution_count": null,
   "metadata": {},
   "outputs": [],
   "source": [
    "df.info()"
   ]
  },
  {
   "cell_type": "markdown",
   "metadata": {},
   "source": [
    "- The columns are:\n",
    "\n",
    "| Column Name  | Description                  | Dtype   | Type meaning |\n",
    "|--------------|------------------------------|---------|--------------|\n",
    "| Prscrbr_NPI  | Doctor's ID                  | int64   | an integer   |  \n",
    "| Prscrbr_Type | Doctor type                  | object  | a string     | \n",
    "| Gnrc_Name    | Drug name                    | object  | a string     | \n",
    "| Tot_Clms     | Number of prescriptions made | int64   | an integer   | "
   ]
  },
  {
   "cell_type": "code",
   "execution_count": null,
   "metadata": {},
   "outputs": [],
   "source": [
    "df.head(10)"
   ]
  },
  {
   "cell_type": "markdown",
   "metadata": {},
   "source": [
    "How many absent items (NaNs) are there in the dataset?"
   ]
  },
  {
   "cell_type": "code",
   "execution_count": null,
   "metadata": {},
   "outputs": [],
   "source": [
    "df.isna().sum()"
   ]
  },
  {
   "cell_type": "markdown",
   "metadata": {},
   "source": [
    "So there are only five absent items in the `Prscrbr_Type` column. Let's discard the corresponding rows:"
   ]
  },
  {
   "cell_type": "code",
   "execution_count": 7,
   "metadata": {},
   "outputs": [],
   "source": [
    "df = df.dropna()"
   ]
  },
  {
   "cell_type": "code",
   "execution_count": null,
   "metadata": {},
   "outputs": [],
   "source": [
    "df.shape"
   ]
  },
  {
   "cell_type": "markdown",
   "metadata": {},
   "source": [
    "The `Prscrbr_NPI`, `Prscrbr_Type`, and `Gnrc_Name` contain categorical values. How many categories in each of them?"
   ]
  },
  {
   "cell_type": "code",
   "execution_count": null,
   "metadata": {},
   "outputs": [],
   "source": [
    "df[['Prscrbr_NPI', 'Prscrbr_Type', 'Gnrc_Name']].nunique()"
   ]
  },
  {
   "cell_type": "markdown",
   "metadata": {},
   "source": [
    "If we were to create a matrix of `Prscrbr_NPI` by `Gnrc_Name`, with `Tot_Clms` for cell values, that matrix would be of size $1057564 \\times 1757$! How many values a matrix of this size would store?"
   ]
  },
  {
   "cell_type": "code",
   "execution_count": null,
   "metadata": {},
   "outputs": [],
   "source": [
    "num_positions = 1057564 * 1757\n",
    "print(f'{num_positions:,}')"
   ]
  },
  {
   "cell_type": "markdown",
   "metadata": {},
   "source": [
    "Almost two billion positions! And most of them are zeros, because we only have $25,869,516$ non-zero values."
   ]
  },
  {
   "cell_type": "code",
   "execution_count": null,
   "metadata": {},
   "outputs": [],
   "source": [
    "num_nonzero_positions = df.shape[0]\n",
    "print(f'{num_nonzero_positions:,}')"
   ]
  },
  {
   "cell_type": "markdown",
   "metadata": {},
   "source": [
    "The occupancy ratio of this matrix is very, very small:"
   ]
  },
  {
   "cell_type": "code",
   "execution_count": null,
   "metadata": {},
   "outputs": [],
   "source": [
    "occupancy_ratio = num_nonzero_positions / num_positions\n",
    "print(f'{occupancy_ratio:.2%}')"
   ]
  },
  {
   "cell_type": "markdown",
   "metadata": {},
   "source": [
    "Only about $1.39\\%$ of the matrix is non-zero. Such matrices are called *sparse matrices*. There are algorithmic techniques to handle sparse matrices in an efficient manner, both in terms of amount of computation to be performed and in memory usage. We will make use of it in a bit.\n",
    "\n",
    "But we should also consider whether all of these categories in `Prscrbr_NPI` and `Gnrc_Name` are truly useful. Maybe categories with under-representation could be discarded, since we want to focus on the most present information only.\n",
    "\n",
    "Let's start with the physician type:"
   ]
  },
  {
   "cell_type": "code",
   "execution_count": 13,
   "metadata": {},
   "outputs": [],
   "source": [
    "count_Prscrbr_Type = df['Prscrbr_Type'].value_counts()"
   ]
  },
  {
   "cell_type": "code",
   "execution_count": null,
   "metadata": {},
   "outputs": [],
   "source": [
    "count_Prscrbr_Type.head(10)"
   ]
  },
  {
   "cell_type": "markdown",
   "metadata": {},
   "source": [
    "There is a steep decline in representation from the most common type of doctor (\"Family Practice\") to the 10th most common (\"Ophtalmology\")."
   ]
  },
  {
   "cell_type": "code",
   "execution_count": null,
   "metadata": {},
   "outputs": [],
   "source": [
    "count_Prscrbr_Type.tail(10)"
   ]
  },
  {
   "cell_type": "markdown",
   "metadata": {},
   "source": [
    "The least represented types of doctor have only one entry each.\n",
    "\n",
    "Let's decide on a cutoff value to filter the least common types. It will be quite arbitrary, and it is worthwhile to consider whether this removal of information will qualitatively impact the conclusions to be obtained from the analysis of this dataset - keep this in mind, ok?"
   ]
  },
  {
   "cell_type": "code",
   "execution_count": 16,
   "metadata": {},
   "outputs": [],
   "source": [
    "import numpy as np"
   ]
  },
  {
   "cell_type": "code",
   "execution_count": null,
   "metadata": {},
   "outputs": [],
   "source": [
    "count_Prscrbr_Type.quantile(np.linspace(0, 1, 21))"
   ]
  },
  {
   "cell_type": "markdown",
   "metadata": {},
   "source": [
    "Making a list of quantiles from zero to $100\\%$, in steps of $5\\%$, we see an almost exponential growth in number of physicians per type. Let's cut aggressively then: it will not change the number of data points substantially."
   ]
  },
  {
   "cell_type": "code",
   "execution_count": 18,
   "metadata": {},
   "outputs": [],
   "source": [
    "q_Prscrbr_Type = 0.70\n",
    "cut_value = count_Prscrbr_Type.quantile(q_Prscrbr_Type)\n",
    "\n",
    "useful_Prscrbr_Type = count_Prscrbr_Type[count_Prscrbr_Type >= cut_value].index"
   ]
  },
  {
   "cell_type": "code",
   "execution_count": null,
   "metadata": {},
   "outputs": [],
   "source": [
    "useful_Prscrbr_Type"
   ]
  },
  {
   "cell_type": "code",
   "execution_count": 20,
   "metadata": {},
   "outputs": [],
   "source": [
    "df = df[df['Prscrbr_Type'].isin(useful_Prscrbr_Type)]"
   ]
  },
  {
   "cell_type": "code",
   "execution_count": null,
   "metadata": {},
   "outputs": [],
   "source": [
    "df.shape"
   ]
  },
  {
   "cell_type": "markdown",
   "metadata": {},
   "source": [
    "We only reduced the number of data points from $25,869,516$ to $25,754,507$!"
   ]
  },
  {
   "cell_type": "markdown",
   "metadata": {},
   "source": [
    "Now let's look into the physicians:"
   ]
  },
  {
   "cell_type": "code",
   "execution_count": 22,
   "metadata": {},
   "outputs": [],
   "source": [
    "count_Prscrbr_NPI = df['Prscrbr_NPI'].value_counts()"
   ]
  },
  {
   "cell_type": "code",
   "execution_count": null,
   "metadata": {},
   "outputs": [],
   "source": [
    "count_Prscrbr_NPI.quantile(np.linspace(0, 1, 21))"
   ]
  },
  {
   "cell_type": "markdown",
   "metadata": {},
   "source": [
    "Again, a very exponential-like growth of number of prescriptions per physician. Let's cut aggressively again, but remember: this may impact the quality of the subsequent analysis, so it may be interesting to revisit these arbitrary decisions later."
   ]
  },
  {
   "cell_type": "code",
   "execution_count": 24,
   "metadata": {},
   "outputs": [],
   "source": [
    "q_Prscrbr_NPI = 0.5\n",
    "cut_value = count_Prscrbr_NPI.quantile(q_Prscrbr_NPI)\n",
    "\n",
    "useful_Prscrbr_NPI = count_Prscrbr_NPI[count_Prscrbr_NPI >= cut_value].index"
   ]
  },
  {
   "cell_type": "code",
   "execution_count": null,
   "metadata": {},
   "outputs": [],
   "source": [
    "len(useful_Prscrbr_NPI)"
   ]
  },
  {
   "cell_type": "code",
   "execution_count": 26,
   "metadata": {},
   "outputs": [],
   "source": [
    "df = df[df['Prscrbr_NPI'].isin(useful_Prscrbr_NPI)]"
   ]
  },
  {
   "cell_type": "code",
   "execution_count": null,
   "metadata": {},
   "outputs": [],
   "source": [
    "df.shape"
   ]
  },
  {
   "cell_type": "markdown",
   "metadata": {},
   "source": [
    "We are keeping a large portion of the information still: $24,297,207$, from the previous number of $25,754,507$ rows."
   ]
  },
  {
   "cell_type": "markdown",
   "metadata": {},
   "source": [
    "Now let's investigate the drugs:"
   ]
  },
  {
   "cell_type": "code",
   "execution_count": 28,
   "metadata": {},
   "outputs": [],
   "source": [
    "count_Gnrc_Name = df['Gnrc_Name'].value_counts()"
   ]
  },
  {
   "cell_type": "code",
   "execution_count": null,
   "metadata": {},
   "outputs": [],
   "source": [
    "count_Gnrc_Name.head(10)"
   ]
  },
  {
   "cell_type": "code",
   "execution_count": null,
   "metadata": {},
   "outputs": [],
   "source": [
    "count_Gnrc_Name.tail(10)"
   ]
  },
  {
   "cell_type": "code",
   "execution_count": null,
   "metadata": {},
   "outputs": [],
   "source": [
    "count_Gnrc_Name.quantile(np.linspace(0, 1, 21))"
   ]
  },
  {
   "cell_type": "markdown",
   "metadata": {},
   "source": [
    "Again, an exponential growth in quantiles, let's cut:"
   ]
  },
  {
   "cell_type": "code",
   "execution_count": 32,
   "metadata": {},
   "outputs": [],
   "source": [
    "q_Gnrc_Name = 0.5\n",
    "cut_value = count_Gnrc_Name.quantile(q_Gnrc_Name)\n",
    "\n",
    "useful_Gnrc_Name = count_Gnrc_Name[count_Gnrc_Name >= cut_value].index"
   ]
  },
  {
   "cell_type": "code",
   "execution_count": null,
   "metadata": {},
   "outputs": [],
   "source": [
    "useful_Gnrc_Name"
   ]
  },
  {
   "cell_type": "code",
   "execution_count": 34,
   "metadata": {},
   "outputs": [],
   "source": [
    "df = df[df['Gnrc_Name'].isin(useful_Gnrc_Name)]"
   ]
  },
  {
   "cell_type": "code",
   "execution_count": null,
   "metadata": {},
   "outputs": [],
   "source": [
    "df.shape"
   ]
  },
  {
   "cell_type": "markdown",
   "metadata": {},
   "source": [
    "Finally, after all this filtering, we went from $25,869,521$ items to $24,246,835$."
   ]
  },
  {
   "cell_type": "code",
   "execution_count": null,
   "metadata": {},
   "outputs": [],
   "source": [
    "print(f'We dropped {1.0 - 24246835/25869521:.2%} of the data')"
   ]
  },
  {
   "cell_type": "code",
   "execution_count": null,
   "metadata": {},
   "outputs": [],
   "source": [
    "num_doctors = df['Prscrbr_NPI'].nunique()\n",
    "print(f'There are {num_doctors:,} doctors left.')"
   ]
  },
  {
   "cell_type": "code",
   "execution_count": null,
   "metadata": {},
   "outputs": [],
   "source": [
    "num_drugs = df['Gnrc_Name'].nunique()\n",
    "print(f'There are {num_drugs:,} drugs left.')"
   ]
  },
  {
   "cell_type": "code",
   "execution_count": null,
   "metadata": {},
   "outputs": [],
   "source": [
    "print( \\\n",
    "    f'There are {num_doctors:,} times {num_drugs:,} ' + \\\n",
    "    f'= {num_doctors * num_drugs:,} possible pairs (doctor, drug), ' + \\\n",
    "    'but the vast majority of them will have zero prescriptions.' \\\n",
    ")"
   ]
  },
  {
   "cell_type": "code",
   "execution_count": null,
   "metadata": {},
   "outputs": [],
   "source": [
    "print( \\\n",
    "    f'There are {df.shape[0]:,} records left.' + \\\n",
    "    f' The occupancy ratio is {df.shape[0] / (num_doctors * num_drugs):.2%}.' \\\n",
    ")"
   ]
  },
  {
   "cell_type": "markdown",
   "metadata": {},
   "source": [
    "Our matrix of prescriptions by doctors and drugs would still be sparse, but with a better occupancy ratio now.\n",
    "\n",
    "Lets save the results of our exploratory analysis!"
   ]
  },
  {
   "cell_type": "code",
   "execution_count": 44,
   "metadata": {},
   "outputs": [],
   "source": [
    "df.to_parquet(DATA_DIR / 'cleaned_data.parquet')"
   ]
  }
 ],
 "metadata": {
  "kernelspec": {
   "display_name": "dorgas",
   "language": "python",
   "name": "python3"
  },
  "language_info": {
   "codemirror_mode": {
    "name": "ipython",
    "version": 3
   },
   "file_extension": ".py",
   "mimetype": "text/x-python",
   "name": "python",
   "nbconvert_exporter": "python",
   "pygments_lexer": "ipython3",
   "version": "3.12.4"
  }
 },
 "nbformat": 4,
 "nbformat_minor": 2
}
